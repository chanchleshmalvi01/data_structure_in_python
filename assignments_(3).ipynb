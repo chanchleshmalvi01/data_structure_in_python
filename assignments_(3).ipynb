{
  "cells": [
    {
      "cell_type": "markdown",
      "metadata": {
        "id": "view-in-github",
        "colab_type": "text"
      },
      "source": [
        "<a href=\"https://colab.research.google.com/github/chanchleshmalvi01/data_structure_in_python/blob/main/assignments_(3).ipynb\" target=\"_parent\"><img src=\"https://colab.research.google.com/assets/colab-badge.svg\" alt=\"Open In Colab\"/></a>"
      ]
    },
    {
      "cell_type": "markdown",
      "id": "c0731969-7c88-49b1-8180-cffa6113f7ee",
      "metadata": {
        "id": "c0731969-7c88-49b1-8180-cffa6113f7ee"
      },
      "source": [
        "**Assignments: Data Structures in Python**"
      ]
    },
    {
      "cell_type": "code",
      "execution_count": null,
      "id": "40774815-9a16-4073-aca3-0ebcd68449cd",
      "metadata": {
        "id": "40774815-9a16-4073-aca3-0ebcd68449cd"
      },
      "outputs": [],
      "source": []
    },
    {
      "cell_type": "code",
      "execution_count": null,
      "id": "9b4ffd03-94b1-4f56-8814-792724618025",
      "metadata": {
        "id": "9b4ffd03-94b1-4f56-8814-792724618025",
        "outputId": "4297f94d-d7b4-4a41-cda8-7430bf0b2891"
      },
      "outputs": [
        {
          "data": {
            "text/plain": [
              "'hselhcnahc'"
            ]
          },
          "execution_count": 2,
          "metadata": {},
          "output_type": "execute_result"
        }
      ],
      "source": [
        "# 1:- write a code to reverse a string without using functio\n",
        "str = \"chanchlesh\"\n",
        "str[::-1]"
      ]
    },
    {
      "cell_type": "code",
      "execution_count": null,
      "id": "1c26cab6-4bce-4d68-b5b1-212752698ef1",
      "metadata": {
        "colab": {
          "base_uri": "https://localhost:8080/"
        },
        "id": "1c26cab6-4bce-4d68-b5b1-212752698ef1",
        "outputId": "e055bfb1-5884-4294-d146-7823678bd2cc"
      },
      "outputs": [
        {
          "output_type": "stream",
          "name": "stdout",
          "text": [
            "Number of vowels in the string: 7\n"
          ]
        }
      ],
      "source": [
        "# 2. Write a code to count the number of vowels in a string.\n",
        "string = \"Audio volume\"\n",
        "vowels = \"aeiouAEIOU\"\n",
        "count = 0\n",
        "for char in string:\n",
        "    if char in vowels:\n",
        "        count += 1\n",
        "print(\"Number of vowels in the string:\", count)"
      ]
    },
    {
      "cell_type": "code",
      "execution_count": 1,
      "id": "145a1f38-8461-480b-bec3-6a418be637d6",
      "metadata": {
        "colab": {
          "base_uri": "https://localhost:8080/"
        },
        "id": "145a1f38-8461-480b-bec3-6a418be637d6",
        "outputId": "acd69fb7-b212-476c-90a9-9a597e9e6859"
      },
      "outputs": [
        {
          "output_type": "stream",
          "name": "stdout",
          "text": [
            "Enter a string: \"Python\"\n",
            "It's not a palindrome.\n"
          ]
        }
      ],
      "source": [
        "# 3. Write a code to check if a given string is a palindrome or not.\n",
        "# code\n",
        "s = input(\"Enter a string: \")\n",
        "\n",
        "s = s.lower()\n",
        "\n",
        "if s == s[::-1]:\n",
        "    print(\"It's a palindrome!\")\n",
        "else:\n",
        "    print(\"It's not a palindrome.\")"
      ]
    },
    {
      "cell_type": "code",
      "execution_count": 2,
      "id": "2561a7cb-7576-4433-92ac-4a6c2fc7d6f6",
      "metadata": {
        "colab": {
          "base_uri": "https://localhost:8080/"
        },
        "id": "2561a7cb-7576-4433-92ac-4a6c2fc7d6f6",
        "outputId": "c0ec2a23-ec6a-4ff4-c4ea-5a4866db749e"
      },
      "outputs": [
        {
          "output_type": "stream",
          "name": "stdout",
          "text": [
            "Enter the first string: \"Astronomer\"\n",
            "Enter the second string: \"Moon starer\"\n",
            "The strings are anagrams of each other!\n"
          ]
        }
      ],
      "source": [
        "# 4. Write a code to check if two given strings are anagrams of each other\n",
        "\n",
        "# code\n",
        "string1 = input(\"Enter the first string: \").lower()\n",
        "string2 = input(\"Enter the second string: \").lower()\n",
        "\n",
        "# Check if sorted characters of both strings are equal\n",
        "if sorted(string1.replace(\" \", \"\")) == sorted(string2.replace(\" \", \"\")):\n",
        "    print(\"The strings are anagrams of each other!\")\n",
        "else:\n",
        "    print(\"The strings are not anagrams.\")"
      ]
    },
    {
      "cell_type": "code",
      "execution_count": null,
      "id": "a32c836f-b6f5-4900-9109-b0f7676df453",
      "metadata": {
        "colab": {
          "base_uri": "https://localhost:8080/"
        },
        "id": "a32c836f-b6f5-4900-9109-b0f7676df453",
        "outputId": "7a8b487a-0db2-4d6e-9c8f-b3b8dc39fc4c"
      },
      "outputs": [
        {
          "output_type": "stream",
          "name": "stdout",
          "text": [
            "Enter the main string: hello\n",
            "Enter the substring to search for: h\n",
            "The substring 'h' occurs at the following indices:\n",
            "[0]\n"
          ]
        }
      ],
      "source": [
        "# 5. Write a code to find all occurrences of a given substring within another string.\n",
        "main_string = input(\"Enter the main string: \")\n",
        "substring = input(\"Enter the substring to search for: \")\n",
        "\n",
        "occurrences = [i for i in range(len(main_string)) if main_string.startswith(substring, i)]\n",
        "\n",
        "if occurrences:\n",
        "    print(f\"The substring '{substring}' occurs at the following indices:\")\n",
        "    print(occurrences)\n",
        "else:\n",
        "    print(f\"The substring '{substring}' does not occur in the main string.\")"
      ]
    },
    {
      "cell_type": "code",
      "execution_count": 3,
      "id": "7df8880b-0d29-45b2-9730-dd56239c28e3",
      "metadata": {
        "colab": {
          "base_uri": "https://localhost:8080/"
        },
        "id": "7df8880b-0d29-45b2-9730-dd56239c28e3",
        "outputId": "56ed1cfa-bdfb-4a96-dee7-1ef85d4f7f08"
      },
      "outputs": [
        {
          "output_type": "stream",
          "name": "stdout",
          "text": [
            " string: \"python\"\n",
            "Compressed string: \"python\"\n"
          ]
        }
      ],
      "source": [
        "# 6. Write a code to perform basic string compression using the counts of repeated characters\n",
        "\n",
        "# code\n",
        "\n",
        "string = \"thecmcmthrrdllllwwwbbb\"\n",
        "\n",
        "compressed = \"\"\n",
        "count = 1\n",
        "\n",
        "for i in range(len(s)):\n",
        "    if i < len(s)-1 and s[i] == s[i+1]:\n",
        "        count += 1\n",
        "    else:\n",
        "        compressed += s[i] + str(count)\n",
        "        count = 1\n",
        "\n",
        "if len(compressed) >= len(s):\n",
        "    compressed = s\n",
        "\n",
        "print(\" string:\", s)\n",
        "print(\"Compressed string:\", compressed)"
      ]
    },
    {
      "cell_type": "code",
      "execution_count": null,
      "id": "412bd086-5ebd-4710-9164-4e3d5aabeaf4",
      "metadata": {
        "colab": {
          "base_uri": "https://localhost:8080/"
        },
        "id": "412bd086-5ebd-4710-9164-4e3d5aabeaf4",
        "outputId": "430015be-3b86-46cc-fcbb-b6e36069baca"
      },
      "outputs": [
        {
          "output_type": "stream",
          "name": "stdout",
          "text": [
            "True\n"
          ]
        }
      ],
      "source": [
        "# 7. Write a code to determine if a string has all unique characters.\n",
        "\n",
        "\n",
        "# code\n",
        "string = \"&#@%^\"\n",
        "seen = set()\n",
        "is_unique = True\n",
        "\n",
        "for char in string:\n",
        "    if char in seen:\n",
        "        is_unique = False\n",
        "        break\n",
        "    seen.add(char)\n",
        "\n",
        "print(is_unique)"
      ]
    },
    {
      "cell_type": "code",
      "execution_count": null,
      "id": "e4b55497-2efb-43d9-b22f-41937e80e11e",
      "metadata": {
        "colab": {
          "base_uri": "https://localhost:8080/"
        },
        "id": "e4b55497-2efb-43d9-b22f-41937e80e11e",
        "outputId": "b2dc6d31-ecf7-43e1-fc04-9632f81ea9e6"
      },
      "outputs": [
        {
          "output_type": "stream",
          "name": "stdout",
          "text": [
            "Enter a string: artificial intelligence\n",
            "Convert to uppercase or lowercase? uppercase\n",
            "Converted string: ARTIFICIAL INTELLIGENCE\n"
          ]
        }
      ],
      "source": [
        "# 8. Write a code to convert a given string to uppercase or lowercase.\n",
        "\n",
        "\n",
        "# code\n",
        "str = input(\"Enter a string: \")\n",
        "option = input(\"Convert to uppercase or lowercase? \")\n",
        "\n",
        "if option.lower() == 'uppercase':\n",
        "    convert = str.upper()\n",
        "elif option.lower() == 'lowercase':\n",
        "    convert = str.lower()\n",
        "else:\n",
        "    convert = \"Invalid option. Please choose 'uppercase' or 'lowercase'.\"\n",
        "\n",
        "print(\"Converted string:\", convert)"
      ]
    },
    {
      "cell_type": "code",
      "execution_count": 4,
      "id": "bae18cfa-31be-4474-b68b-7e5553528be5",
      "metadata": {
        "colab": {
          "base_uri": "https://localhost:8080/"
        },
        "id": "bae18cfa-31be-4474-b68b-7e5553528be5",
        "outputId": "70636111-b545-4398-bde8-45d30a5e976b"
      },
      "outputs": [
        {
          "output_type": "stream",
          "name": "stdout",
          "text": [
            "Number of words: 3\n"
          ]
        }
      ],
      "source": [
        "# 9. Write a code to count the number of words in a string.\n",
        "\n",
        "# code\n",
        "sentence = \"what is this\"\n",
        "words = sentence.split()\n",
        "num_words = len(words)\n",
        "#print number of word's\n",
        "print(\"Number of words:\", num_words)"
      ]
    },
    {
      "cell_type": "code",
      "execution_count": 6,
      "id": "2d985510-63c7-455e-ab1f-937c6b1d83d7",
      "metadata": {
        "colab": {
          "base_uri": "https://localhost:8080/"
        },
        "id": "2d985510-63c7-455e-ab1f-937c6b1d83d7",
        "outputId": "1d696d39-90ae-42a9-ea94-61f7dba04e06"
      },
      "outputs": [
        {
          "output_type": "stream",
          "name": "stdout",
          "text": [
            "PythonDSA\n"
          ]
        }
      ],
      "source": [
        "# 10. Write a code to concatenate two strings without using the + operator.\n",
        "\n",
        "\n",
        "# code\n",
        "str1 = \"Python\"\n",
        "str2 = \"DSA\"\n",
        "\n",
        "concatenated_string = \"\"\n",
        "for char in str1:\n",
        "    concatenated_string += char\n",
        "for char in str2:\n",
        "    concatenated_string += char\n",
        "#Print concatenate str\n",
        "print(concatenated_string)"
      ]
    },
    {
      "cell_type": "code",
      "execution_count": null,
      "id": "f19b2334-9e46-4b61-bb61-801d3c92c13a",
      "metadata": {
        "colab": {
          "base_uri": "https://localhost:8080/"
        },
        "id": "f19b2334-9e46-4b61-bb61-801d3c92c13a",
        "outputId": "3119a811-9641-483e-c669-96df48a8e8a2"
      },
      "outputs": [
        {
          "output_type": "stream",
          "name": "stdout",
          "text": [
            "Modified list after removing all occurrences of 900 : [100, 200, 300, 400, 500, 600, 800]\n"
          ]
        }
      ],
      "source": [
        "# 11. Write a code to remove all occurrences of a specific element from a list.\n",
        "\n",
        "\n",
        "# code\n",
        "original_list = [100,200,300,400,500,600,900,800]\n",
        "element_to_remove = 900\n",
        "\n",
        "while element_to_remove in original_list:\n",
        "    original_list.remove(element_to_remove)\n",
        "#remove values and print new values\n",
        "print(\"Modified list after removing all occurrences of\", element_to_remove, \":\", original_list)"
      ]
    },
    {
      "cell_type": "code",
      "execution_count": null,
      "id": "770274ca-8a3b-45d8-a7e1-25621aca6821",
      "metadata": {
        "colab": {
          "base_uri": "https://localhost:8080/"
        },
        "id": "770274ca-8a3b-45d8-a7e1-25621aca6821",
        "outputId": "31c9d4d7-6dc7-4179-ee31-eff162c8f6dd"
      },
      "outputs": [
        {
          "output_type": "stream",
          "name": "stdout",
          "text": [
            "Enter a list of numbers separated by space: 1 2 3 4 5 6\n",
            "Second largest number: 5\n"
          ]
        }
      ],
      "source": [
        "# 12. Implement a code to find the second largest number in a given list of integers.\n",
        "\n",
        "\n",
        "# code\n",
        "user_input = input(\"Enter a list of numbers separated by space: \")\n",
        "my_list = [int(x) for x in user_input.split()]\n",
        "my_list.sort()\n",
        "\n",
        "if len(my_list) < 2:\n",
        "    print(\"List should contain at least two elements\")\n",
        "else:\n",
        "    print(\"Second largest number:\", my_list[-2])"
      ]
    },
    {
      "cell_type": "code",
      "execution_count": null,
      "id": "eeacabb7-471d-47e4-853a-a399971c95ce",
      "metadata": {
        "colab": {
          "base_uri": "https://localhost:8080/"
        },
        "id": "eeacabb7-471d-47e4-853a-a399971c95ce",
        "outputId": "6183303c-4b2a-4c37-8021-935c46aaea80"
      },
      "outputs": [
        {
          "output_type": "stream",
          "name": "stdout",
          "text": [
            "Element counts: {1: 2, 3: 2, 4: 2, 5: 2, 7: 2, 8: 1}\n"
          ]
        }
      ],
      "source": [
        "# 13. Create a code to count the occurrences of each element in a list and return a dictionary with elements keys and their counts as values.\n",
        "\n",
        "\n",
        "# code\n",
        "my_list = [1, 1,3,4,5,3,5,7,8,4,7]\n",
        "\n",
        "counts = {}\n",
        "\n",
        "for element in my_list:\n",
        "    if element in counts:\n",
        "        counts[element] += 1\n",
        "    else:\n",
        "        counts[element] = 1\n",
        "\n",
        "print(\"Element counts:\", counts)"
      ]
    },
    {
      "cell_type": "code",
      "execution_count": null,
      "id": "03866733-da0e-4b82-a504-a084b1e5c297",
      "metadata": {
        "colab": {
          "base_uri": "https://localhost:8080/"
        },
        "id": "03866733-da0e-4b82-a504-a084b1e5c297",
        "outputId": "b6aef7aa-ceb4-4569-8001-e8f29f911680"
      },
      "outputs": [
        {
          "output_type": "execute_result",
          "data": {
            "text/plain": [
              "[1, 2, 3, 4, 5, 6, 7, 8, 9]"
            ]
          },
          "metadata": {},
          "execution_count": 16
        }
      ],
      "source": [
        "# 14. Write a code to reverse a list in-place without using any built-in reverse functions.\n",
        "\n",
        "# code\n",
        "\n",
        "my_list = [9,8,7,6,5,4,3,2,1]\n",
        "\n",
        "my_list[::-1]"
      ]
    },
    {
      "cell_type": "code",
      "execution_count": null,
      "id": "8cfd2b34-373f-4a07-acad-a657254dd92e",
      "metadata": {
        "colab": {
          "base_uri": "https://localhost:8080/"
        },
        "id": "8cfd2b34-373f-4a07-acad-a657254dd92e",
        "outputId": "c1d1f79b-2cd1-4bfc-fff8-65e6bde3da2c"
      },
      "outputs": [
        {
          "output_type": "stream",
          "name": "stdout",
          "text": [
            "List without duplicates: [9, 8, 7, 6, 5, 4, 3, 2, 1]\n"
          ]
        }
      ],
      "source": [
        "# 15. Implement a code to find and remove duplicates from a list while preserving the original order of elements.\n",
        "\n",
        "\n",
        "# code\n",
        "my_list = [9,8,7,6,5,4,7,8,9,5,4,3,2,1]\n",
        "\n",
        "unique_elements = set()\n",
        "\n",
        "result_list = []\n",
        "\n",
        "for item in my_list:\n",
        "    if item not in unique_elements:\n",
        "        result_list.append(item)\n",
        "        unique_elements.add(item)\n",
        "\n",
        "print(\"List without duplicates:\", result_list)"
      ]
    },
    {
      "cell_type": "code",
      "execution_count": null,
      "id": "a4712af4-aea2-457d-82ce-1fa8ef44064e",
      "metadata": {
        "colab": {
          "base_uri": "https://localhost:8080/"
        },
        "id": "a4712af4-aea2-457d-82ce-1fa8ef44064e",
        "outputId": "b5b346e9-07cc-419a-e0f0-ab46a1347f10"
      },
      "outputs": [
        {
          "output_type": "stream",
          "name": "stdout",
          "text": [
            "The list is sorted in ascending order.\n"
          ]
        }
      ],
      "source": [
        "# 16. Create a code to check if a given list is sorted (either in ascending or descending order) or not.\n",
        "\n",
        "\n",
        "# code\n",
        "my_list = [1, 2, 3, 4, 5]\n",
        "\n",
        "if my_list:\n",
        "    # Checking if the list is sorted in ascending order\n",
        "    ascending = all(my_list[i] <= my_list[i + 1] for i in range(len(my_list) - 1))\n",
        "    descending = all(my_list[i] >= my_list[i + 1] for i in range(len(my_list) - 1))\n",
        "else:\n",
        "    print(\"The list is empty.\")\n",
        "if ascending:\n",
        "    print(\"The list is sorted in ascending order.\")\n",
        "elif descending:\n",
        "    print(\"The list is sorted in descending order.\")\n",
        "else:\n",
        "    print(\"The list is not sorted.\")"
      ]
    },
    {
      "cell_type": "code",
      "execution_count": null,
      "id": "6e3ed792-406f-45d6-87f9-0114b2917d42",
      "metadata": {
        "colab": {
          "base_uri": "https://localhost:8080/"
        },
        "id": "6e3ed792-406f-45d6-87f9-0114b2917d42",
        "outputId": "f1040682-415d-4dc1-f127-60bf7f90d9be"
      },
      "outputs": [
        {
          "output_type": "stream",
          "name": "stdout",
          "text": [
            "Merged list: [1, 2, 3, 4, 5, 6, 7, 8]\n"
          ]
        }
      ],
      "source": [
        "# 17. Write a code to merge two sorted lists into a single sorted list.\n",
        "\n",
        "\n",
        "# code\n",
        "list1 = [1, 3, 5, 7]\n",
        "list2 = [2, 4, 6, 8]\n",
        "merged_list = []\n",
        "i = 0\n",
        "j = 0\n",
        "while i < len(list1) and j < len(list2):\n",
        "    if list1[i] < list2[j]:\n",
        "        merged_list.append(list1[i])\n",
        "        i += 1\n",
        "    else:\n",
        "        merged_list.append(list2[j])\n",
        "        j += 1\n",
        "while i < len(list1):\n",
        "    merged_list.append(list1[i])\n",
        "    i += 1\n",
        "while j < len(list2):\n",
        "    merged_list.append(list2[j])\n",
        "    j += 1\n",
        "print(\"Merged list:\", merged_list)"
      ]
    },
    {
      "cell_type": "code",
      "execution_count": null,
      "id": "c0ef44f8-a44f-4205-975c-9366ce4158f7",
      "metadata": {
        "colab": {
          "base_uri": "https://localhost:8080/"
        },
        "id": "c0ef44f8-a44f-4205-975c-9366ce4158f7",
        "outputId": "8dc2f98f-5e84-4f6e-8132-d03ec62b6d32"
      },
      "outputs": [
        {
          "output_type": "stream",
          "name": "stdout",
          "text": [
            "Intersection of the two lists: [3]\n"
          ]
        }
      ],
      "source": [
        "# 18. Implement a code to find the intersection of two given lists.\n",
        "\n",
        "\n",
        "# code\n",
        "\n",
        "list1 = [1,2,3]\n",
        "list2 = [3,4,5]\n",
        "intersection = []\n",
        "for item in list1:\n",
        "    if item in list2 and item not in intersection:\n",
        "        intersection.append(item)\n",
        "print(\"Intersection of the two lists:\", intersection)"
      ]
    },
    {
      "cell_type": "code",
      "execution_count": null,
      "id": "a3ce3834-9c0f-4f5e-a635-403be9fe1cd1",
      "metadata": {
        "colab": {
          "base_uri": "https://localhost:8080/"
        },
        "id": "a3ce3834-9c0f-4f5e-a635-403be9fe1cd1",
        "outputId": "94b07486-124a-4e51-8947-1366b494be13"
      },
      "outputs": [
        {
          "output_type": "stream",
          "name": "stdout",
          "text": [
            "the union of two lists without duplicates [1, 2, 3, 4, 5, 6, 7, 8]\n"
          ]
        }
      ],
      "source": [
        "# 19. Create a code to find the union of two lists without duplicates.\n",
        "\n",
        "\n",
        "# code\n",
        "\n",
        "list1=[1,2,3,4,4,3]\n",
        "list2=[5,6,2,3,7,8]\n",
        "\n",
        "union_list=set(list1+list2)\n",
        "union_list=list(union_list)\n",
        "\n",
        "print(\"the union of two lists without duplicates\",union_list)"
      ]
    },
    {
      "cell_type": "code",
      "execution_count": null,
      "id": "fa326950-7413-4bcd-b1d8-cc0f8ae264ba",
      "metadata": {
        "colab": {
          "base_uri": "https://localhost:8080/"
        },
        "id": "fa326950-7413-4bcd-b1d8-cc0f8ae264ba",
        "outputId": "bcc55d65-d210-4efd-974a-ebbf69f0b803"
      },
      "outputs": [
        {
          "output_type": "stream",
          "name": "stdout",
          "text": [
            "Shuffled list: [5, 4, 3, 1, 2]\n"
          ]
        }
      ],
      "source": [
        "# 20. Write a code to shuffle a given list randomly without using any built-in shuffle functions.\n",
        "\n",
        "# code\n",
        "import random\n",
        "\n",
        "# Given list\n",
        "my_list = [1, 2, 3, 4, 5]  # You can replace this with your own list\n",
        "\n",
        "# Shuffling the list\n",
        "shuffled_list = []\n",
        "while my_list:\n",
        "    index = random.randint(0, len(my_list) - 1)\n",
        "    shuffled_list.append(my_list.pop(index))\n",
        "\n",
        "print(\"Shuffled list:\", shuffled_list)"
      ]
    },
    {
      "cell_type": "code",
      "execution_count": null,
      "id": "6ac61ca8-4dd9-47f3-bead-d27f1bdb2083",
      "metadata": {
        "colab": {
          "base_uri": "https://localhost:8080/"
        },
        "id": "6ac61ca8-4dd9-47f3-bead-d27f1bdb2083",
        "outputId": "f2785611-4ac8-4ea4-d7c2-b0f33b8d5cf7"
      },
      "outputs": [
        {
          "output_type": "stream",
          "name": "stdout",
          "text": [
            "Enter elements of the first tuple separated by spaces: 2 4 5\n",
            "Enter elements of the second tuple separated by spaces: 4 5 9\n",
            "Common elements: ('4', '5')\n"
          ]
        }
      ],
      "source": [
        "# 21. Write a code that takes two tuples as input and returns a new tuple containing elements that are common to both input tuples.\n",
        "\n",
        "\n",
        "# code\n",
        "tuple1 = tuple(input(\"Enter elements of the first tuple separated by spaces: \").split())\n",
        "tuple2 = tuple(input(\"Enter elements of the second tuple separated by spaces: \").split())\n",
        "\n",
        "set1 = set(tuple1)\n",
        "set2 = set(tuple2)\n",
        "\n",
        "common_elements = set1.intersection(set2)\n",
        "\n",
        "result_tuple = tuple(common_elements)\n",
        "\n",
        "print(\"Common elements:\", result_tuple)"
      ]
    },
    {
      "cell_type": "code",
      "execution_count": 16,
      "id": "e6ad1234-6bc5-4bcd-bfca-b68140b19f85",
      "metadata": {
        "colab": {
          "base_uri": "https://localhost:8080/"
        },
        "id": "e6ad1234-6bc5-4bcd-bfca-b68140b19f85",
        "outputId": "5276b911-a92b-425e-df11-a7983aff3f54"
      },
      "outputs": [
        {
          "output_type": "stream",
          "name": "stdout",
          "text": [
            "Enter the first set of integers separated by space: 1 2 3 4\n",
            "Enter the second set of integers separated by space: 5 6 7 8\n",
            "Intersection of the two sets: set()\n"
          ]
        }
      ],
      "source": [
        "# 22. Create a code that prompts the user to enter two sets of integers separated by commas. Then, print the intersection of these two sets.\n",
        "\n",
        "# CODE\n",
        "set1_input = input(\"Enter the first set of integers separated by space: \")\n",
        "set2_input = input(\"Enter the second set of integers separated by space: \")\n",
        "\n",
        "set1 = set(int(x) for x in set1_input.split())\n",
        "set2 = set(int(x) for x in set2_input.split())\n",
        "\n",
        "intersection = set1 & set2\n",
        "print(\"Intersection of the two sets:\", intersection)\n",
        "\n"
      ]
    },
    {
      "cell_type": "code",
      "execution_count": null,
      "id": "bae59cd5-8cd6-42d8-9482-5be9a863073f",
      "metadata": {
        "id": "bae59cd5-8cd6-42d8-9482-5be9a863073f",
        "outputId": "f75d05b0-2cb0-4e1d-9889-435e7ac38c6b"
      },
      "outputs": [
        {
          "name": "stdout",
          "output_type": "stream",
          "text": [
            "Concatenated tuple: (4, 5, 7, 7, 8, 9)\n"
          ]
        }
      ],
      "source": [
        "# 23. Write a code to concatenate two tuples. The function should take two tuples as input and return a new tuple containing elements from both input tuples.\n",
        "\n",
        "# code\n",
        "tuple1 = (4,5,7)\n",
        "tuple2 = (7,8,9)\n",
        "\n",
        "concatenated_tuple = tuple1 + tuple2\n",
        "\n",
        "print(\"Concatenated tuple:\", concatenated_tuple)"
      ]
    },
    {
      "cell_type": "code",
      "execution_count": null,
      "id": "bde66892-7dac-47ab-b2c5-769d5e580575",
      "metadata": {
        "colab": {
          "base_uri": "https://localhost:8080/"
        },
        "id": "bde66892-7dac-47ab-b2c5-769d5e580575",
        "outputId": "29abaa11-d2b9-4eb5-ce99-23f6ff93f383"
      },
      "outputs": [
        {
          "output_type": "stream",
          "name": "stdout",
          "text": [
            "Enter the first set of strings separated by commas: 46,65,24\n",
            "Enter the second set of strings separated by commas: 56,89,44\n",
            "Elements present in the first set but not in the second set: {'46', '65', '24'}\n"
          ]
        }
      ],
      "source": [
        "# 24.Develop a code that prompts the user to input two sets of strings. Then, print the elements that are present in the first set but not in the second set.\n",
        "\n",
        "# Code\n",
        "\n",
        "set1 = set(input(\"Enter the first set of strings separated by commas: \").split(','))\n",
        "set2 = set(input(\"Enter the second set of strings separated by commas: \").split(','))\n",
        "\n",
        "print(\"Elements present in the first set but not in the second set:\", set1 - set2)"
      ]
    },
    {
      "cell_type": "code",
      "execution_count": null,
      "id": "0fa750c6-0ea3-4410-b10f-07dcd2dafd10",
      "metadata": {
        "colab": {
          "base_uri": "https://localhost:8080/"
        },
        "id": "0fa750c6-0ea3-4410-b10f-07dcd2dafd10",
        "outputId": "59c53b0c-9eaa-4a1a-c3ee-65303d52f6ed"
      },
      "outputs": [
        {
          "output_type": "stream",
          "name": "stdout",
          "text": [
            "Enter elements of the tuple separated by spaces: 2 3 4 6 7 4 3 \n",
            "Enter the start index: 0\n",
            "Enter the end index: 5\n",
            "Resulting tuple: ('2', '3', '4', '6', '7', '4')\n"
          ]
        }
      ],
      "source": [
        "# 25. Create a code that takes a tuple and two integers as input. The function should return a new tuple containing elements from the original tuple within the specified range of indices.\n",
        "\n",
        "# code\n",
        "input_tuple = tuple(input(\"Enter elements of the tuple separated by spaces: \").split())\n",
        "\n",
        "start_index = int(input(\"Enter the start index: \"))\n",
        "end_index = int(input(\"Enter the end index: \"))\n",
        "\n",
        "if start_index < 0:\n",
        "    start_index = 0\n",
        "\n",
        "if end_index > len(input_tuple) - 1:\n",
        "    end_index = len(input_tuple) - 1\n",
        "\n",
        "result_tuple = input_tuple[start_index:end_index+1]\n",
        "\n",
        "print(\"Resulting tuple:\", result_tuple)\n"
      ]
    },
    {
      "cell_type": "code",
      "execution_count": null,
      "id": "71bc62d3-8c4b-42ac-9ac7-3723af23807e",
      "metadata": {
        "colab": {
          "base_uri": "https://localhost:8080/"
        },
        "id": "71bc62d3-8c4b-42ac-9ac7-3723af23807e",
        "outputId": "74e0b8d1-39f9-4158-9eec-39751a7dfa2d"
      },
      "outputs": [
        {
          "output_type": "stream",
          "name": "stdout",
          "text": [
            "Enter the first set of characters separated by space: s f g j v   x f g \n",
            "Enter the second set of characters separated by space: r d r w n e\n",
            "Union of the two sets: {'v', 's', '', 'g', 'e', 'j', 'd', 'r', 'f', 'n', 'x', 'w'}\n"
          ]
        }
      ],
      "source": [
        "# 26. Write a code that prompts the user to input two sets of characters. Then, print the union of these two sets.\n",
        "#code\n",
        "\n",
        "set1_input = input(\"Enter the first set of characters separated by space: \")\n",
        "set2_input = input(\"Enter the second set of characters separated by space: \")\n",
        "set1 = set(set1_input.split(' '))\n",
        "set2 = set(set2_input.split(' '))\n",
        "\n",
        "union = set1.union(set2)\n",
        "\n",
        "print(\"Union of the two sets:\", union)\n"
      ]
    },
    {
      "cell_type": "code",
      "execution_count": null,
      "id": "c30256ac-c5b4-4350-97c5-11e22a3015e4",
      "metadata": {
        "colab": {
          "base_uri": "https://localhost:8080/"
        },
        "id": "c30256ac-c5b4-4350-97c5-11e22a3015e4",
        "outputId": "dfeec610-1564-47f4-a1e6-8daa86240583"
      },
      "outputs": [
        {
          "output_type": "stream",
          "name": "stdout",
          "text": [
            "Enter a tuple of integers separated by space: 34 54 23\n",
            "Maximum value: 54\n",
            "Minimum value: 23\n"
          ]
        }
      ],
      "source": [
        "# 27. Develop a code that takes a tuple of integers as input. The function should return the maximum and minimum values from the tuple using tuple unpacking.\n",
        "\n",
        "# code\n",
        "\n",
        "tuple_input = input(\"Enter a tuple of integers separated by space: \")\n",
        "\n",
        "input_tuple = tuple(int(x) for x in tuple_input.split(' '))\n",
        "\n",
        "max_val = max(input_tuple)\n",
        "min_val = min(input_tuple)\n",
        "\n",
        "print(\"Maximum value:\", max_val)\n",
        "print(\"Minimum value:\", min_val)"
      ]
    },
    {
      "cell_type": "code",
      "execution_count": null,
      "id": "80032efd-507d-4cbc-984d-27287ee961b3",
      "metadata": {
        "colab": {
          "base_uri": "https://localhost:8080/"
        },
        "id": "80032efd-507d-4cbc-984d-27287ee961b3",
        "outputId": "d26e3e48-a1c4-49a2-e175-d9d5d7a0b365"
      },
      "outputs": [
        {
          "output_type": "stream",
          "name": "stdout",
          "text": [
            "Union: {1, 2, 3, 4, 5, 6, 7, 8}\n",
            "Intersection: {4, 5}\n",
            "Difference (set1 - set2): {1, 2, 3}\n"
          ]
        }
      ],
      "source": [
        "# 28.Create a code that defines two sets of integers. Then, print the union, intersection, and difference of these two sets.\n",
        "\n",
        "\n",
        "# code\n",
        "set1 = {1, 2, 3, 4, 5}\n",
        "set2 = {4, 5, 6, 7, 8}\n",
        "\n",
        "print(\"Union:\", set1.union(set2))\n",
        "\n",
        "print(\"Intersection:\", set1.intersection(set2))\n",
        "\n",
        "print(\"Difference (set1 - set2):\", set1.difference(set2))\n"
      ]
    },
    {
      "cell_type": "code",
      "execution_count": null,
      "id": "6eca91a4-f9d0-4cdc-8109-7ec7d70d2cfe",
      "metadata": {
        "colab": {
          "base_uri": "https://localhost:8080/"
        },
        "id": "6eca91a4-f9d0-4cdc-8109-7ec7d70d2cfe",
        "outputId": "7b3b2f64-a63c-42d6-a51c-c172862ac410"
      },
      "outputs": [
        {
          "output_type": "stream",
          "name": "stdout",
          "text": [
            "Enter a tuple of elements separated by commas: 3 , 4, 5, 6\n",
            "Enter the element to search for: 4\n",
            "Count of occurrences of the element in the tuple: 1\n"
          ]
        }
      ],
      "source": [
        "# 29. Write a code that takes a tuple and an element as input. The function should return the count of occurrences of the given element in the tuple.\n",
        "\n",
        "#code\n",
        "\n",
        "tuple_str = input(\"Enter a tuple of elements separated by commas: \")\n",
        "tuple_lst = [x.strip() for x in tuple_str.split(',')]\n",
        "tuple_input = tuple(tuple_lst)\n",
        "\n",
        "element_input = input(\"Enter the element to search for: \")\n",
        "\n",
        "count = 0\n",
        "for element in tuple_input:\n",
        "    if element == element_input:\n",
        "        count += 1\n",
        "\n",
        "# Print the result\n",
        "print(\"Count of occurrences of the element in the tuple:\", count)"
      ]
    },
    {
      "cell_type": "code",
      "execution_count": null,
      "id": "83db8cf5-4252-4c56-aaf2-a02ed8d1f9c9",
      "metadata": {
        "colab": {
          "base_uri": "https://localhost:8080/"
        },
        "id": "83db8cf5-4252-4c56-aaf2-a02ed8d1f9c9",
        "outputId": "af31e7d8-101e-478e-8b44-3f29b0ce2c19"
      },
      "outputs": [
        {
          "output_type": "stream",
          "name": "stdout",
          "text": [
            "Enter the first set of strings (separated by space): 22,443,5,553,35\n",
            "Enter the second set of strings (separated by space): 45,78,98,64\n",
            "Symmetric Difference: {'64', '443', '22', '78', '45', '98', '35', '553', '5'}\n"
          ]
        }
      ],
      "source": [
        "# 30. Develop a code that prompts the user to input two sets of strings. Then, print the symmetric difference of these two sets.\n",
        "\n",
        "# Code\n",
        "\n",
        "set1_input = input(\"Enter the first set of strings (separated by space): \")\n",
        "set2_input = input(\"Enter the second set of strings (separated by space): \")\n",
        "\n",
        "set1 = set(set1_input.split(\",\"))\n",
        "set2 = set(set2_input.split(\",\"))\n",
        "\n",
        "symmetric_difference = set1.symmetric_difference(set2)\n",
        "print(\"Symmetric Difference:\", symmetric_difference)"
      ]
    },
    {
      "cell_type": "code",
      "execution_count": null,
      "id": "0c5974ae-32cf-4266-9e9d-b13eee0944d3",
      "metadata": {
        "colab": {
          "base_uri": "https://localhost:8080/"
        },
        "id": "0c5974ae-32cf-4266-9e9d-b13eee0944d3",
        "outputId": "b669bdda-52aa-4871-d602-b22dca2e2fc6"
      },
      "outputs": [
        {
          "output_type": "stream",
          "name": "stdout",
          "text": [
            "Enter a list of words (separated by spaces): apple banana sugar can \n",
            "Word Frequencies: {'apple': 1, 'banana': 1, 'sugar': 1, 'can': 1}\n"
          ]
        }
      ],
      "source": [
        "# 31. Write a code that takes a list of words as input and returns a dictionary where the keys are unique words and the values are the frequencies of those words in the input list.\n",
        "\n",
        "# code\n",
        "word_list = input(\"Enter a list of words (separated by spaces): \").split()\n",
        "frequency_dict = {}\n",
        "for word in word_list:\n",
        "    word = word.lower()\n",
        "    if word in frequency_dict:\n",
        "        frequency_dict[word] += 1\n",
        "    else:\n",
        "        frequency_dict[word] = 1\n",
        "print(\"Word Frequencies:\", frequency_dict)\n",
        "\n"
      ]
    },
    {
      "cell_type": "code",
      "execution_count": null,
      "id": "ca209d64-86b1-4d95-a020-be3fc7723e44",
      "metadata": {
        "colab": {
          "base_uri": "https://localhost:8080/"
        },
        "id": "ca209d64-86b1-4d95-a020-be3fc7723e44",
        "outputId": "31a6d146-1cbe-4a18-df79-44bf29e08245"
      },
      "outputs": [
        {
          "output_type": "stream",
          "name": "stdout",
          "text": [
            "Enter the first dictionary (in the format {'key1': value1, 'key2': value2}): {'a': 1, 'b': 2, 'c': 3}\n",
            "Enter the second dictionary (in the format {'key1': value1, 'key2': value2}): {'b': 3, 'c': 4, 'd': 5}\n",
            "Merged dictionary with added values for common keys:\n",
            "{'a': 1, 'b': 5, 'c': 7, 'd': 5}\n"
          ]
        }
      ],
      "source": [
        "\n",
        "# 32. Write a code that takes two dictionaries as input and merges them into a single dictionary. If there are common keys, the values should be added together.\n",
        "\n",
        "\n",
        "# code\n",
        "\n",
        "dict1 = eval(input(\"Enter the first dictionary (in the format {'key1': value1, 'key2': value2}): \"))\n",
        "\n",
        "dict2 = eval(input(\"Enter the second dictionary (in the format {'key1': value1, 'key2': value2}): \"))\n",
        "\n",
        "merged_dict = dict1.copy()\n",
        "for key, value in dict2.items():\n",
        "    if key in merged_dict:\n",
        "        merged_dict[key] += value\n",
        "    else:\n",
        "        merged_dict[key] = value\n",
        "\n",
        "print(\"Merged dictionary with added values for common keys:\")\n",
        "print(merged_dict)"
      ]
    },
    {
      "cell_type": "code",
      "execution_count": null,
      "id": "8326cba6-a4b2-436d-a65c-26ff94e8712b",
      "metadata": {
        "colab": {
          "base_uri": "https://localhost:8080/"
        },
        "id": "8326cba6-a4b2-436d-a65c-26ff94e8712b",
        "outputId": "b3d7f69c-99ae-4920-9894-5f2ea2f78de6"
      },
      "outputs": [
        {
          "output_type": "stream",
          "name": "stdout",
          "text": [
            "Value: 3\n"
          ]
        }
      ],
      "source": [
        "# 33. Write a code to access a value in a nested dictionary. The function should take the dictionary and a list of keys as input, and return the corresponding value. If any of the keys do not exist in the dictionary, the function should return None.\n",
        "\n",
        "#code\n",
        "\n",
        "nested_dict = {'a': {'b': {'c': 3}}}\n",
        "\n",
        "keys = ['a', 'b', 'c']\n",
        "\n",
        "current_dict = nested_dict\n",
        "\n",
        "for key in keys:\n",
        "    if key in current_dict:\n",
        "        current_dict = current_dict[key]\n",
        "    else:\n",
        "        print(\"None\")\n",
        "        break\n",
        "else:\n",
        "\n",
        "    print(\"Value:\", current_dict)\n"
      ]
    },
    {
      "cell_type": "code",
      "execution_count": null,
      "id": "da7c0ef5-b23a-43df-a5ab-0c4a3b9c323b",
      "metadata": {
        "colab": {
          "base_uri": "https://localhost:8080/"
        },
        "id": "da7c0ef5-b23a-43df-a5ab-0c4a3b9c323b",
        "outputId": "23b314e0-5ebc-4237-a00c-ebe4858e7864"
      },
      "outputs": [
        {
          "output_type": "stream",
          "name": "stdout",
          "text": [
            "Enter a dictionary (in the format {'key1': value1, 'key2': value2}): {'dog': 10, 'cat': 5, 'bird': 20}\n",
            "Enter 'asc' for ascending order or 'desc' for descending order: desc\n",
            "Sorted dictionary based on values in descending order:\n",
            "{'bird': 20, 'dog': 10, 'cat': 5}\n"
          ]
        }
      ],
      "source": [
        "# 34. Write a code that takes a dictionary as input and returns a sorted version of it based on the values. You can choose whether to sort in ascending or descending order.\n",
        "# code\n",
        "input_dict = eval(input(\"Enter a dictionary (in the format {'key1': value1, 'key2': value2}): \"))\n",
        "\n",
        "sort_order = input(\"Enter 'asc' for ascending order or 'desc' for descending order: \")\n",
        "\n",
        "sorted_dict = dict(sorted(input_dict.items(), key=lambda item: item[1], reverse=(sort_order.lower() == 'desc')))\n",
        "\n",
        "if sort_order.lower() == 'asc':\n",
        "    print(\"Sorted dictionary based on values in ascending order:\")\n",
        "elif sort_order.lower() == 'desc':\n",
        "    print(\"Sorted dictionary based on values in descending order:\")\n",
        "print(sorted_dict)\n",
        "\n",
        "\n"
      ]
    },
    {
      "cell_type": "code",
      "execution_count": null,
      "id": "0b7a76fb-45ee-4775-93b6-b8a8f037eb7e",
      "metadata": {
        "colab": {
          "base_uri": "https://localhost:8080/"
        },
        "id": "0b7a76fb-45ee-4775-93b6-b8a8f037eb7e",
        "outputId": "e47dff81-9d94-4381-d304-70596c9cd5f9"
      },
      "outputs": [
        {
          "output_type": "stream",
          "name": "stdout",
          "text": [
            "Inverted dictionary:\n",
            "{1: ['sugarcan', 'owatermelon '], 2: ['mango', 'guava']}\n"
          ]
        }
      ],
      "source": [
        "# 35. Write a code that inverts a dictionary, swapping keys and values. Ensure that the inverted dictionary correctly handles cases where multiple keys have the same value by storing the keys as a list in the inverted dictionary.\n",
        "\n",
        "\n",
        "# code\n",
        "\n",
        "input_dict = {'sugarcan': 1, 'mango': 2, 'owatermelon ': 1, 'guava': 2}\n",
        "\n",
        "inverted_dict = {}\n",
        "for key, value in input_dict.items():\n",
        "    if value in inverted_dict:\n",
        "        inverted_dict[value].append(key)\n",
        "    else:\n",
        "        inverted_dict[value] = [key]\n",
        "\n",
        "print(\"Inverted dictionary:\")\n",
        "print(inverted_dict)"
      ]
    }
  ],
  "metadata": {
    "kernelspec": {
      "display_name": "Python 3 (ipykernel)",
      "language": "python",
      "name": "python3"
    },
    "language_info": {
      "codemirror_mode": {
        "name": "ipython",
        "version": 3
      },
      "file_extension": ".py",
      "mimetype": "text/x-python",
      "name": "python",
      "nbconvert_exporter": "python",
      "pygments_lexer": "ipython3",
      "version": "3.10.8"
    },
    "colab": {
      "provenance": [],
      "include_colab_link": true
    }
  },
  "nbformat": 4,
  "nbformat_minor": 5
}